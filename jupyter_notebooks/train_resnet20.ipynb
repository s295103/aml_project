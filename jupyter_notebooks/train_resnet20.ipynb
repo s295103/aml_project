{
  "cells": [
    {
      "attachments": {},
      "cell_type": "markdown",
      "metadata": {
        "id": "view-in-github"
      },
      "source": [
        "<a href=\"https://colab.research.google.com/github/s295103/aml_project/blob/main/train_baselines.ipynb\" target=\"_parent\"><img src=\"https://colab.research.google.com/assets/colab-badge.svg\" alt=\"Open In Colab\"/></a>"
      ]
    },
    {
      "attachments": {},
      "cell_type": "markdown",
      "metadata": {
        "id": "ty6G_IfjL50c"
      },
      "source": [
        "#Training ResNet20\n",
        "In this notebook we train ResNet-20 on CIFAR100 in a centralized way, as a baseline to test the FedAvg algorithm.\n"
      ]
    },
    {
      "attachments": {},
      "cell_type": "markdown",
      "metadata": {},
      "source": [
        "##Clone GitHub repository and import libraries"
      ]
    },
    {
      "cell_type": "code",
      "execution_count": null,
      "metadata": {
        "id": "cdisW_n0wxIC"
      },
      "outputs": [],
      "source": [
        "import os\n",
        "\n",
        "if not os.path.isdir('content/aml_project'):\n",
        "  !git clone https://github.com/s295103/aml_project.git\n",
        "  %cd /content/aml_project\n",
        "else:\n",
        "  if os.getcwd() != \"/content/aml_project\":\n",
        "    %cd /content/aml_project/\n",
        "  !git pull origin\n",
        "\n",
        "import torch\n",
        "import matplotlib.pyplot as plt\n",
        "from utils import *\n",
        "from architectures import *\n",
        "\n",
        "ROOT = \"/content\"\n",
        "\n",
        "if not os.path.isdir(f'{ROOT}/models'):\n",
        "  !mkdir /content/models"
      ]
    },
    {
      "attachments": {},
      "cell_type": "markdown",
      "metadata": {
        "id": "6dnlBXR7BGtm"
      },
      "source": [
        "##Train ResNet20 on Cifar100"
      ]
    },
    {
      "cell_type": "code",
      "execution_count": null,
      "metadata": {
        "id": "6-gpMtedRGvq"
      },
      "outputs": [],
      "source": [
        "!mkdir models/cifar100/\n",
        "\n",
        "# Get training and test set from CIFAR100\n",
        "TRAIN_SET, _, TEST_SET = cifar_processing(True, 0, ROOT)\n",
        "\n",
        "PATH = f\"{ROOT}/models/cifar100\"\n",
        "\n",
        "# Define hyperparameters and other training arguments\n",
        "KWARGS = dict(\n",
        "      batch_size = 128,\n",
        "      device = \"cuda\" if torch.cuda.is_available() else \"cpu\",\n",
        "      num_workers = 8,\n",
        "      path = PATH,\n",
        "      lr = 1e-1,\n",
        "      momentum = 0.9,\n",
        "      weight_decay = 1e-4,\n",
        "      num_epochs = 160,\n",
        "      resume_file = None,\n",
        "      test_freq = 10\n",
        ")\n",
        "\n",
        "NUM_CLASSES = len(TRAIN_SET.classes)\n",
        "GROUPS = 2\n",
        "LAYERS = [3, 3, 3]\n",
        "\n",
        "net = ResNet(BasicBlock, LAYERS, NUM_CLASSES, norm_layer=\"bn\")\n",
        "print(f\"Num Parameters = {model_size(net)}\")\n",
        "test_acc = training(\"resnet20bn\", net, TRAIN_SET, TEST_SET, **KWARGS)\n",
        "print(f\"Test Accuracy: {100*test_acc:.1f} %\")\n",
        "\n",
        "net = ResNet(BasicBlock, LAYERS, NUM_CLASSES, groups=GROUPS, norm_layer=\"gn\")\n",
        "print(f\"Num Parameters = {model_size(net)}\")\n",
        "test_acc = training(\"resnet20gn\", net, TRAIN_SET, TEST_SET, **KWARGS)\n",
        "print(f\"Test Accuracy: {100*test_acc:.1f} %\")"
      ]
    },
    {
      "attachments": {},
      "cell_type": "markdown",
      "metadata": {
        "id": "Z17lxsk3hk5R"
      },
      "source": [
        "##Plot loss and test accuracy per epoch"
      ]
    },
    {
      "cell_type": "code",
      "execution_count": null,
      "metadata": {
        "id": "RZXsdgEOkRTx"
      },
      "outputs": [],
      "source": [
        "epochs_bn, loss_bn, acc_bn = read_stats(f\"{PATH}/resnet20bn_stats.csv\")\n",
        "epochs_gn, loss_gn, acc_gn = read_stats(f\"{PATH}/resnet20gn_stats.csv\")\n",
        "\n",
        "\n",
        "acc_bn = [100*a for a in acc_bn]\n",
        "acc_gn = [100*a for a in acc_gn]\n",
        "\n",
        "fig, (loss_ax, acc_ax) = plt.subplots(1, 2, figsize=(9, 4))\n",
        "\n",
        "loss_ax.set_xlim(0, max(epochs_bn))\n",
        "loss_ax.set_ylim(0, max(loss_bn + loss_gn)+1)\n",
        "loss_ax.set_xlabel(\"Epochs\")\n",
        "loss_ax.set_ylabel(\"Loss\")\n",
        "loss_ax.grid()\n",
        "loss_ax.plot(epochs_bn, loss_bn, label=\"ResNet20_BN\")\n",
        "loss_ax.plot(epochs_gn, loss_gn, label=\"ResNet20_GN\")\n",
        "loss_ax.legend()\n",
        "\n",
        "acc_ax.set_xlim(0, max(epochs_bn))\n",
        "acc_ax.set_ylim(0, max(acc_bn + acc_gn)+1)\n",
        "acc_ax.set_xlabel(\"Epochs\")\n",
        "acc_ax.set_ylabel(\"Accuracy [%]\")\n",
        "acc_ax.grid()\n",
        "acc_ax.plot(epochs_bn, acc_bn, label=\"ResNet20_BN\")\n",
        "acc_ax.plot(epochs_gn, acc_gn, label=\"ResNet20_GN\")\n",
        "acc_ax.legend()\n",
        "\n",
        "fig.tight_layout()\n",
        "fig.savefig(PATH + \"/results\")\n"
      ]
    }
  ],
  "metadata": {
    "accelerator": "GPU",
    "colab": {
      "gpuClass": "premium",
      "gpuType": "T4",
      "provenance": []
    },
    "gpuClass": "premium",
    "kernelspec": {
      "display_name": "Python 3",
      "name": "python3"
    },
    "language_info": {
      "codemirror_mode": {
        "name": "ipython",
        "version": 3
      },
      "file_extension": ".py",
      "mimetype": "text/x-python",
      "name": "python",
      "nbconvert_exporter": "python",
      "pygments_lexer": "ipython3",
      "version": "3.10.6"
    }
  },
  "nbformat": 4,
  "nbformat_minor": 0
}
