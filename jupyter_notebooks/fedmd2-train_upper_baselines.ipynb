{
 "cells": [
  {
   "attachments": {},
   "cell_type": "markdown",
   "metadata": {},
   "source": [
    "#FedMD (II): training clients on the full private dataset"
   ]
  },
  {
   "cell_type": "code",
   "execution_count": null,
   "metadata": {},
   "outputs": [],
   "source": [
    "# Clone GitHub repository\n",
    "\n",
    "import os\n",
    "\n",
    "if not os.path.isdir('content/aml_project'):\n",
    "  !git clone https://github.com/s295103/aml_project.git\n",
    "  %cd /content/aml_project\n",
    "else:\n",
    "  if os.getcwd() != \"/content/aml_project\":\n",
    "    %cd /content/aml_project/\n",
    "  !git pull origin\n",
    "\n",
    "import torch\n",
    "from utils import cifar_processing, training, load_model\n",
    "from fedmd import make_fc_layer, load_clients, save_clients\n",
    "\n",
    "ROOT = \"/content\"\n",
    "\n",
    "# Baselines folder\n",
    "BL_PATH = f\"{ROOT}/aml_project/results/fedmd/baselines\"\n",
    "\n",
    "# Load clients trained on public data (CIFAR10)\n",
    "clients = load_clients(BL_PATH)\n",
    "\n",
    "# Load and preprocess CIFAR100\n",
    "train_set, _, test_set = cifar_processing(True, 0, ROOT)\n",
    "num_classes = len(train_set.classes)\n",
    "\n",
    "# Set the output layer to CIFAR100 number of classes\n",
    "for client in clients.values():\n",
    "  client.model.set_output_layer(make_fc_layer(client.model.fc_in_features, num_classes))"
   ]
  },
  {
   "attachments": {},
   "cell_type": "markdown",
   "metadata": {},
   "source": [
    "##Train on CIFAR100"
   ]
  },
  {
   "cell_type": "code",
   "execution_count": null,
   "metadata": {},
   "outputs": [],
   "source": [
    "# Make results folder\n",
    "UPPER_BL_PATH = f\"{ROOT}/upper_baselines\"\n",
    "if not os.path.isdir(UPPER_BL_PATH):\n",
    "  !mkdir $UPPER_BL_PATH\n",
    "  \n",
    "# Training function keyword arguments\n",
    "kwargs = dict(\n",
    "    batch_size = 128,\n",
    "    device = \"cuda\" if torch.cuda.is_available() else \"cpu\",\n",
    "    num_workers = 8,\n",
    "    path = UPPER_BL_PATH,\n",
    "    lr = 1e-1,\n",
    "    momentum = 0.9,\n",
    "    weight_decay = 1e-4,\n",
    "    num_epochs = 0,\n",
    "    resume_file = None,\n",
    "    test_freq = 5\n",
    "  )\n",
    "\n",
    "# Train\n",
    "for name, client in clients.items():\n",
    "  print(f\"Training client {name} on CIFAR100\")\n",
    "  test_acc = training(name, client.model, train_set, test_set, **kwargs)\n",
    "  print(f\"Client {name} final test accuracy: {100*test_acc:.1f} %\")"
   ]
  },
  {
   "cell_type": "code",
   "execution_count": null,
   "metadata": {},
   "outputs": [],
   "source": [
    "# Load best model onto clients and serialize them\n",
    "for name, client in clients.items():\n",
    "    client_data = load_model(f\"{UPPER_BL_PATH}/{name}_best_model.pth\")\n",
    "    client.model.load_state_dict(client_data[\"weights\"])\n",
    "save_clients(clients, UPPER_BL_PATH)"
   ]
  }
 ],
 "metadata": {
  "language_info": {
   "name": "python"
  },
  "orig_nbformat": 4
 },
 "nbformat": 4,
 "nbformat_minor": 2
}
