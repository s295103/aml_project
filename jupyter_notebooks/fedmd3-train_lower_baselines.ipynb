{
  "cells": [
    {
      "attachments": {},
      "cell_type": "markdown",
      "metadata": {
        "id": "AzXQCAbKf22G"
      },
      "source": [
        "#FedMD (III): training clients on their own private dataset"
      ]
    },
    {
      "cell_type": "code",
      "execution_count": null,
      "metadata": {},
      "outputs": [],
      "source": [
        "# Clone GitHub repository\n",
        "\n",
        "import os\n",
        "\n",
        "if not os.path.isdir('content/aml_project'):\n",
        "  !git clone https://github.com/s295103/aml_project.git\n",
        "  %cd /content/aml_project\n",
        "else:\n",
        "  %cd /content/aml_project/\n",
        "  !git pull origin\n",
        "\n",
        "import torch\n",
        "import pickle\n",
        "from utils import cifar_processing, training, load_model\n",
        "from fedmd import load_clients, make_fc_layer, partition_dataset, save_clients\n",
        "\n",
        "ROOT = \"/content\"\n",
        "\n",
        "# Baselines folder\n",
        "BL_PATH = f\"{ROOT}/aml_project/results/fedmd/baselines\"\n",
        "\n",
        "\n",
        "TRAIN_SET, _, TEST_SET = cifar_processing(True, 0, ROOT)\n",
        "NUM_CLASSES = len(TRAIN_SET.classes)"
      ]
    },
    {
      "attachments": {},
      "cell_type": "markdown",
      "metadata": {},
      "source": [
        "##Training on private data with IID data distributions"
      ]
    },
    {
      "cell_type": "code",
      "execution_count": null,
      "metadata": {
        "id": "MdzuxDo7unAU"
      },
      "outputs": [],
      "source": [
        "# Load clients trained on public data (CIFAR10)\n",
        "clients = load_clients(BL_PATH)\n",
        "\n",
        "# Set the output layer to CIFAR100 number of classes\n",
        "for client in clients.values():\n",
        "  client.model.set_output_layer(make_fc_layer(client.model.fc_in_features, NUM_CLASSES))\n",
        "  \n",
        "# Make results folder\n",
        "IID_LOWER_BL_PATH = f\"{ROOT}/lower_baselines_iid\"\n",
        "if not os.path.isdir(IID_LOWER_BL_PATH):\n",
        "  !mkdir $IID_LOWER_BL_PATH\n",
        "\n",
        "# Partition CIFAR100\n",
        "alpha = 1000\n",
        "partitions, _ = partition_dataset(TRAIN_SET, len(clients), alpha)\n",
        "part_dict = dict(dataset=\"CIFAR100\", alpha=alpha)\n",
        "for partition, (name, client) in zip(partitions, clients.items()):\n",
        "    client.private_data = torch.utils.data.Subset(TRAIN_SET, partition)\n",
        "    part_dict[\"name\"] = partition\n",
        "pickle.dump(part_dict, open(f\"{IID_LOWER_BL_PATH}/partitions.p\", \"wb\"))\n",
        "\n",
        "# Declare training keyword arguments\n",
        "kwargs = dict(\n",
        "    batch_size = 128,\n",
        "    device = \"cuda\" if torch.cuda.is_available() else \"cpu\",\n",
        "    num_workers = 8,\n",
        "    path = IID_LOWER_BL_PATH,\n",
        "    lr = 1e-1,\n",
        "    momentum = 0.9,\n",
        "    weight_decay = 1e-4,\n",
        "    num_epochs = 0,\n",
        "    resume_file = None,\n",
        "    test_freq = 5\n",
        "  )\n",
        "\n",
        "# Train\n",
        "for name, client in clients.items():\n",
        "  print(f\"Training client {name} on its own private data\")\n",
        "  test_acc = training(name, client.model, client.private_data, TEST_SET, **kwargs)\n",
        "  print(f\"Client {name} final test accuracy: {100*test_acc:.1f} %\")"
      ]
    },
    {
      "cell_type": "code",
      "execution_count": null,
      "metadata": {},
      "outputs": [],
      "source": [
        "# Load best model onto clients and serialize them, without private data\n",
        "for name, client in clients.items():\n",
        "    client_data = load_model(f\"{IID_LOWER_BL_PATH}/{name}_best_model.pth\")\n",
        "    client.model.load_state_dict(client_data[\"weights\"])\n",
        "    client.private_data = None\n",
        "save_clients(clients, IID_LOWER_BL_PATH)"
      ]
    },
    {
      "attachments": {},
      "cell_type": "markdown",
      "metadata": {},
      "source": [
        "##Training on private data with non-IID data distributions"
      ]
    },
    {
      "cell_type": "code",
      "execution_count": null,
      "metadata": {},
      "outputs": [],
      "source": [
        "# Load clients trained on public data (CIFAR10)\n",
        "clients = load_clients(BL_PATH)\n",
        "\n",
        "# Set the output layer to CIFAR100 number of classes\n",
        "for client in clients.values():\n",
        "  client.model.set_output_layer(make_fc_layer(client.model.fc_in_features, NUM_CLASSES))\n",
        "\n",
        "# Make results folder\n",
        "NON_IID_LOWER_BL_PATH = f\"{ROOT}/lower_baselines_non_iid\"\n",
        "if not os.path.isdir(NON_IID_LOWER_BL_PATH):\n",
        "  !mkdir $NON_IID_LOWER_BL_PATH\n",
        "\n",
        "# Partition CIFAR100\n",
        "alpha = 0\n",
        "partitions, _ = partition_dataset(TRAIN_SET, len(clients), alpha)\n",
        "fpart_dict = dict(dataset=\"CIFAR100\", alpha=alpha)\n",
        "for partition, (name, client) in zip(partitions, clients.items()):\n",
        "    client.private_data = torch.utils.data.Subset(TRAIN_SET, partition)\n",
        "    part_dict[\"name\"] = partition\n",
        "part_filename = f\"{NON_IID_LOWER_BL_PATH}/partitions.p\"\n",
        "pickle.dump(part_dict, open(f\"{NON_IID_LOWER_BL_PATH}/partitions.p\", \"wb\"))\n",
        "\n",
        "# Declare training keyword arguments\n",
        "kwargs = dict(\n",
        "    batch_size = 128,\n",
        "    device = \"cuda\" if torch.cuda.is_available() else \"cpu\",\n",
        "    num_workers = 8,\n",
        "    path = NON_IID_LOWER_BL_PATH,\n",
        "    lr = 1e-1,\n",
        "    momentum = 0.9,\n",
        "    weight_decay = 1e-4,\n",
        "    num_epochs = 0,\n",
        "    resume_file = None,\n",
        "    test_freq = 5\n",
        "  )\n",
        "\n",
        "# Train\n",
        "for name, client in clients.items():\n",
        "  print(f\"Training client {name} on its own private data\")\n",
        "  test_acc = training(name, client.model, client.private_data, TEST_SET, **kwargs)\n",
        "  print(f\"Client {name} final test accuracy: {100*test_acc:.1f} %\")"
      ]
    },
    {
      "cell_type": "code",
      "execution_count": null,
      "metadata": {},
      "outputs": [],
      "source": [
        "# Load best model onto clients and serialize them, without private data\n",
        "for name, client in clients.items():\n",
        "    client_data = load_model(f\"{NON_IID_LOWER_BL_PATH}/{name}_best_model.pth\")\n",
        "    client.model.load_state_dict(client_data[\"weights\"])\n",
        "    client.private_data = None\n",
        "save_clients(clients, NON_IID_LOWER_BL_PATH)"
      ]
    }
  ],
  "metadata": {
    "accelerator": "GPU",
    "colab": {
      "collapsed_sections": [
        "7cTXuKZ4unAR",
        "CS29KtH_unAS"
      ],
      "gpuType": "V100",
      "provenance": []
    },
    "kernelspec": {
      "display_name": "Python 3",
      "name": "python3"
    },
    "language_info": {
      "name": "python"
    },
    "orig_nbformat": 4
  },
  "nbformat": 4,
  "nbformat_minor": 0
}
