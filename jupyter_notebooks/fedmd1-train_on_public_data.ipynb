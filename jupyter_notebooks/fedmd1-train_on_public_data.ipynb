{
 "cells": [
  {
   "attachments": {},
   "cell_type": "markdown",
   "metadata": {},
   "source": [
    "#FedMD (I): training clients on public data"
   ]
  },
  {
   "cell_type": "code",
   "execution_count": null,
   "metadata": {},
   "outputs": [],
   "source": [
    "# Clone GitHub repository\n",
    "\n",
    "import os\n",
    "\n",
    "if not os.path.isdir('content/aml_project'):\n",
    "  !git clone https://github.com/s295103/aml_project.git\n",
    "  %cd /content/aml_project\n",
    "else:\n",
    "  %cd /content/aml_project/\n",
    "  !git pull origin\n",
    "\n",
    "import torch\n",
    "from utils import training, cifar_processing, load_model\n",
    "from fedmd import create_clients, save_clients\n",
    "\n",
    "ROOT = \"/content\"\n",
    "\n",
    "# Load and preprocess CIFAR10\n",
    "train_set, _, test_set = cifar_processing(False, 0, ROOT)\n",
    "\n",
    "# Make clients\n",
    "num_classes = len(train_set.classes)\n",
    "clients = create_clients(num_classes)\n"
   ]
  },
  {
   "attachments": {},
   "cell_type": "markdown",
   "metadata": {},
   "source": [
    "##Train the clients on CIFAR10 until convergence"
   ]
  },
  {
   "cell_type": "code",
   "execution_count": null,
   "metadata": {},
   "outputs": [],
   "source": [
    "# Make results folder\n",
    "BL_PATH = f\"{ROOT}/baselines\"\n",
    "if not os.path.isdir(BL_PATH):\n",
    "  !mkdir $BL_PATH\n",
    "\n",
    "# Training function keyword arguments\n",
    "kwargs = dict(\n",
    "    batch_size = 128,\n",
    "    device = \"cuda\" if torch.cuda.is_available() else \"cpu\",\n",
    "    num_workers = 8,\n",
    "    path = BL_PATH,\n",
    "    lr = 1e-1,\n",
    "    momentum = 0.9,\n",
    "    weight_decay = 1e-4,\n",
    "    num_epochs = 0,\n",
    "    resume_file = None,\n",
    "    test_freq = 5\n",
    "  )\n",
    "\n",
    "# Train\n",
    "for name, client in clients.items():\n",
    "  print(f\"Training client {name} on CIFAR10\")\n",
    "  test_acc = training(name, client.model, train_set, test_set, **kwargs)\n",
    "  print(f\"Client {name} final test accuracy: {100*test_acc:.1f} %\")"
   ]
  },
  {
   "cell_type": "code",
   "execution_count": 4,
   "metadata": {},
   "outputs": [
    {
     "ename": "ImportError",
     "evalue": "attempted relative import with no known parent package",
     "output_type": "error",
     "traceback": [
      "\u001b[0;31m---------------------------------------------------------------------------\u001b[0m",
      "\u001b[0;31mImportError\u001b[0m                               Traceback (most recent call last)",
      "Cell \u001b[0;32mIn[4], line 2\u001b[0m\n\u001b[1;32m      1\u001b[0m \u001b[39m# Load best model onto clients and serialize them\u001b[39;00m\n\u001b[0;32m----> 2\u001b[0m \u001b[39mfrom\u001b[39;00m \u001b[39m.\u001b[39;00m\u001b[39m.\u001b[39;00m\u001b[39mutils\u001b[39;00m \u001b[39mimport\u001b[39;00m \u001b[39m*\u001b[39m\n\u001b[1;32m      3\u001b[0m \u001b[39mfrom\u001b[39;00m \u001b[39mfedmd\u001b[39;00m \u001b[39mimport\u001b[39;00m \u001b[39m*\u001b[39m\n\u001b[1;32m      4\u001b[0m clients \u001b[39m=\u001b[39m create_clients()\n",
      "\u001b[0;31mImportError\u001b[0m: attempted relative import with no known parent package"
     ]
    }
   ],
   "source": [
    "# Load best model onto clients and serialize them\n",
    "for name, client in clients.items():\n",
    "    client_data = load_model(f\"{BL_PATH}/{name}_best_model.pth\")\n",
    "    client.model.load_state_dict(client_data[\"weights\"])\n",
    "save_clients(clients, BL_PATH)"
   ]
  }
 ],
 "metadata": {
  "kernelspec": {
   "display_name": "advanced_machine_learning",
   "language": "python",
   "name": "python3"
  },
  "language_info": {
   "codemirror_mode": {
    "name": "ipython",
    "version": 3
   },
   "file_extension": ".py",
   "mimetype": "text/x-python",
   "name": "python",
   "nbconvert_exporter": "python",
   "pygments_lexer": "ipython3",
   "version": "3.10.6"
  },
  "orig_nbformat": 4
 },
 "nbformat": 4,
 "nbformat_minor": 2
}
